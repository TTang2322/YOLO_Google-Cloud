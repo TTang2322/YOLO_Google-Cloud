{
 "cells": [
  {
   "cell_type": "code",
   "execution_count": 1,
   "metadata": {},
   "outputs": [],
   "source": [
    "import sys\n",
    "sys.path.append('/home/watopedia/github_projects/watopedia/')\n",
    "webserver_files = '/home/watopedia/Desktop/TEMP/cloud_ml_webrtc/webserver/'\n",
    "import logging\n",
    "import tornado.escape\n",
    "import tornado.ioloop\n",
    "import tornado.options\n",
    "import tornado.web\n",
    "import tornado.websocket\n",
    "import os.path\n",
    "import uuid\n",
    "from PIL import Image\n",
    "import time\n",
    "\n",
    "#from io import StringIO\n",
    "from io import BytesIO\n",
    "import uuid\n",
    "import numpy\n",
    "import json\n",
    "from tornado.options import define, options\n",
    "import tornado.httpserver\n",
    "import numpy as np\n",
    "import ssl\n",
    "from tornado.ioloop import PeriodicCallback\n",
    "import base64\n",
    "from aipodMain.GUI.MAIN_GUI import nn_draw\n",
    "from aipodMain.utilities.helper_data_encapsulation import OutputVisData\n",
    "from aipodMain.utilities.helper_data_encapsulation import FaceData\n",
    "from aipodMain.utilities.helper_data_encapsulation import OutputClassificationDataWithTracker\n",
    "port = 8080\n",
    "import threading"
   ]
  },
  {
   "cell_type": "code",
   "execution_count": 2,
   "metadata": {},
   "outputs": [
    {
     "name": "stdout",
     "output_type": "stream",
     "text": [
      "Loading the Neural Net Layer Drawer\n"
     ]
    }
   ],
   "source": [
    "nnDraw = nn_draw(OutputVisData(),640,480,update_interval=0)\n",
    "threading.Thread(target=nnDraw.updateWithThread()).start()"
   ]
  },
  {
   "cell_type": "code",
   "execution_count": null,
   "metadata": {},
   "outputs": [],
   "source": []
  },
  {
   "cell_type": "code",
   "execution_count": null,
   "metadata": {},
   "outputs": [],
   "source": []
  },
  {
   "cell_type": "code",
   "execution_count": null,
   "metadata": {},
   "outputs": [],
   "source": []
  },
  {
   "cell_type": "code",
   "execution_count": 2,
   "metadata": {},
   "outputs": [],
   "source": [
    "class Application(tornado.web.Application):\n",
    "    def __init__(self):\n",
    "        handlers = [\n",
    "            (r\"/\", MainHandler),\n",
    "            (r\"/test\", TestHandler),\n",
    "            (r\"/cnn_data\", CNNHandler),\n",
    "            (r\"/mlresults\", MLResultHandler)\n",
    "            ]\n",
    "\n",
    "        settings = dict(\n",
    "            cookie_secret=\"asdsafl.rleknknfkjqweonrkbknoijsdfckjnk 234jn\",\n",
    "            template_path=os.path.join(os.path.dirname(webserver_files), \"templates\"),\n",
    "            static_path=os.path.join(os.path.dirname(webserver_files), \"static\"),\n",
    "            xsrf_cookies=False,\n",
    "            autoescape=None,\n",
    "            debug=True\n",
    "            )\n",
    "        tornado.web.Application.__init__(self, handlers, **settings)\n",
    "\n",
    "class MainHandler(tornado.web.RequestHandler):\n",
    "    def get(self):\n",
    "        self.render(\"facedetect.html\")\n",
    "        \n",
    "class TestHandler(tornado.web.RequestHandler):\n",
    "    def get(self):\n",
    "        self.render(\"dashboard.html\")\n",
    "        \n",
    "class CNNHandler(tornado.websocket.WebSocketHandler):\n",
    "    '''\n",
    "    When data is received, append it to our thread image queue.\n",
    "    '''\n",
    "    def open(self):\n",
    "        print('new ccn connection')\n",
    "        logging.info('new CNN connection')\n",
    "        self.image_np = np.ones(shape=(6,6,3))\n",
    "        self.next_message = True\n",
    "        self.t1 = time.time()\n",
    "        self.callback = PeriodicCallback(self.update, 500)\n",
    "        self.callback.start()\n",
    "\n",
    "    def on_message(self, message):\n",
    "        self.next_message = True\n",
    "    def update(self):\n",
    "        elapsedTime = time.time() - self.t1\n",
    "        if self.next_message or (elapsedTime > 10):\n",
    "            data = Image.fromarray(nnDraw.output_data.astype('uint8'))\n",
    "            fp = BytesIO()\n",
    "            data.save(fp, 'JPEG')\n",
    "            data = base64.b64encode(fp.getvalue())\n",
    "            data = \"data:image/png;base64,\" + data.decode('utf-8')\n",
    "            self.write_message(json.dumps({\n",
    "                \"img\": data,\n",
    "                \"desc\": \"img_description\",\n",
    "            }))\n",
    "            self.next_message = False\n",
    "            self.t1 = time.time()\n",
    "        \n",
    "\n",
    "\n",
    "    def on_close(self):\n",
    "        logging.info('connection CNN closed')\n",
    "        self.callback.stop()\n",
    "        print(\"Connection CNN closed\")\n",
    "\n",
    "class MLResultHandler (tornado.websocket.WebSocketHandler):\n",
    "    '''\n",
    "    When data is received, append it to our thread image queue.\n",
    "    '''\n",
    "    def open(self):\n",
    "        logging.info('new webcam connection')\n",
    "        self.callback = PeriodicCallback(self.update, 500)\n",
    "        self.callback.start()\n",
    "        self.previous_data = []\n",
    "    def setOutputData(self):\n",
    "        pass\n",
    "        \n",
    "    def create_thread_data(self, output_data):\n",
    "        h = 480; w = 640;\n",
    "        thread_data = {}\n",
    "        thread_data['type'] = 'thread_data'\n",
    "        thread_data['name'] = thread_input.name\n",
    "        thread_data['bbs'] = self.fix_bb_coords(output_data.bbs.copy(),\n",
    "                                    h,w)\n",
    "        thread_data['scores'] = output_data.scores.tolist()\n",
    "        class_names = []\n",
    "        for c in output_data.classes:\n",
    "            class_names.append(output_data.category_index.get(c)['name'])\n",
    "        thread_data['classes'] = class_names\n",
    "        thread_data['unique_labels'] = objCounting.countFromList(class_names)\n",
    "        return thread_data\n",
    "    def create_face_data(self,output_data):\n",
    "        data = {}\n",
    "        data['type'] = 'face_data'\n",
    "        data['db_image'] = 'omar'\n",
    "        \n",
    "    def update(self):\n",
    "        # First we need to concatenate the output data\n",
    "        data = self.create_thread_data(output_data_all)\n",
    "        all_data = []\n",
    "        all_data.append(data)\n",
    "        # Add the face data. TODO: Pass in the face data!\n",
    "        all_data = json.dumps(self.create_face_data(output_data_frm))\n",
    "        # Prevent sending duplicate data.\n",
    "        if all_data != self.previous_data:\n",
    "            self.write_message(all_data)\n",
    "        self.previous_data = all_data\n",
    "\n",
    "    def fix_bb_coords(self,bbs,h,w):\n",
    "        for indx, bb in enumerate(bbs):\n",
    "            bbs[indx][0] = int(bbs[indx][0]*h)\n",
    "            bbs[indx][1] = int(bbs[indx][1]*w)\n",
    "            bbs[indx][2] = int(bbs[indx][2]*h)\n",
    "            bbs[indx][3] = int(bbs[indx][3]*w)  \n",
    "        return bbs.tolist()\n",
    "\n",
    "  \n",
    "\n",
    "\n",
    "    def on_close(self):\n",
    "        logging.info('connection ml closed')\n",
    "        self.callback.stop()\n"
   ]
  },
  {
   "cell_type": "code",
   "execution_count": 3,
   "metadata": {},
   "outputs": [
    {
     "ename": "RuntimeError",
     "evalue": "Event loop is running.",
     "output_type": "error",
     "traceback": [
      "\u001b[0;31m---------------------------------------------------------------------------\u001b[0m",
      "\u001b[0;31mRuntimeError\u001b[0m                              Traceback (most recent call last)",
      "\u001b[0;32m<ipython-input-3-8329f760c99b>\u001b[0m in \u001b[0;36m<module>\u001b[0;34m()\u001b[0m\n\u001b[1;32m      7\u001b[0m \u001b[0mhttp_server\u001b[0m \u001b[0;34m=\u001b[0m \u001b[0mtornado\u001b[0m\u001b[0;34m.\u001b[0m\u001b[0mhttpserver\u001b[0m\u001b[0;34m.\u001b[0m\u001b[0mHTTPServer\u001b[0m\u001b[0;34m(\u001b[0m\u001b[0mapp\u001b[0m\u001b[0;34m,\u001b[0m \u001b[0mssl_options\u001b[0m\u001b[0;34m=\u001b[0m\u001b[0mssl_ctx\u001b[0m\u001b[0;34m)\u001b[0m\u001b[0;34m\u001b[0m\u001b[0m\n\u001b[1;32m      8\u001b[0m \u001b[0mhttp_server\u001b[0m\u001b[0;34m.\u001b[0m\u001b[0mlisten\u001b[0m\u001b[0;34m(\u001b[0m\u001b[0mport\u001b[0m\u001b[0;34m)\u001b[0m\u001b[0;34m\u001b[0m\u001b[0m\n\u001b[0;32m----> 9\u001b[0;31m \u001b[0mtornado\u001b[0m\u001b[0;34m.\u001b[0m\u001b[0mioloop\u001b[0m\u001b[0;34m.\u001b[0m\u001b[0mIOLoop\u001b[0m\u001b[0;34m.\u001b[0m\u001b[0mcurrent\u001b[0m\u001b[0;34m(\u001b[0m\u001b[0;34m)\u001b[0m\u001b[0;34m.\u001b[0m\u001b[0mstart\u001b[0m\u001b[0;34m(\u001b[0m\u001b[0;34m)\u001b[0m\u001b[0;34m\u001b[0m\u001b[0m\n\u001b[0m",
      "\u001b[0;32m~/tensorflow/lib/python3.5/site-packages/tornado/platform/asyncio.py\u001b[0m in \u001b[0;36mstart\u001b[0;34m(self)\u001b[0m\n\u001b[1;32m    125\u001b[0m             \u001b[0mself\u001b[0m\u001b[0;34m.\u001b[0m\u001b[0m_setup_logging\u001b[0m\u001b[0;34m(\u001b[0m\u001b[0;34m)\u001b[0m\u001b[0;34m\u001b[0m\u001b[0m\n\u001b[1;32m    126\u001b[0m             \u001b[0masyncio\u001b[0m\u001b[0;34m.\u001b[0m\u001b[0mset_event_loop\u001b[0m\u001b[0;34m(\u001b[0m\u001b[0mself\u001b[0m\u001b[0;34m.\u001b[0m\u001b[0masyncio_loop\u001b[0m\u001b[0;34m)\u001b[0m\u001b[0;34m\u001b[0m\u001b[0m\n\u001b[0;32m--> 127\u001b[0;31m             \u001b[0mself\u001b[0m\u001b[0;34m.\u001b[0m\u001b[0masyncio_loop\u001b[0m\u001b[0;34m.\u001b[0m\u001b[0mrun_forever\u001b[0m\u001b[0;34m(\u001b[0m\u001b[0;34m)\u001b[0m\u001b[0;34m\u001b[0m\u001b[0m\n\u001b[0m\u001b[1;32m    128\u001b[0m         \u001b[0;32mfinally\u001b[0m\u001b[0;34m:\u001b[0m\u001b[0;34m\u001b[0m\u001b[0m\n\u001b[1;32m    129\u001b[0m             \u001b[0masyncio\u001b[0m\u001b[0;34m.\u001b[0m\u001b[0mset_event_loop\u001b[0m\u001b[0;34m(\u001b[0m\u001b[0mold_loop\u001b[0m\u001b[0;34m)\u001b[0m\u001b[0;34m\u001b[0m\u001b[0m\n",
      "\u001b[0;32m/usr/lib/python3.5/asyncio/base_events.py\u001b[0m in \u001b[0;36mrun_forever\u001b[0;34m(self)\u001b[0m\n\u001b[1;32m    338\u001b[0m         \u001b[0mself\u001b[0m\u001b[0;34m.\u001b[0m\u001b[0m_check_closed\u001b[0m\u001b[0;34m(\u001b[0m\u001b[0;34m)\u001b[0m\u001b[0;34m\u001b[0m\u001b[0m\n\u001b[1;32m    339\u001b[0m         \u001b[0;32mif\u001b[0m \u001b[0mself\u001b[0m\u001b[0;34m.\u001b[0m\u001b[0mis_running\u001b[0m\u001b[0;34m(\u001b[0m\u001b[0;34m)\u001b[0m\u001b[0;34m:\u001b[0m\u001b[0;34m\u001b[0m\u001b[0m\n\u001b[0;32m--> 340\u001b[0;31m             \u001b[0;32mraise\u001b[0m \u001b[0mRuntimeError\u001b[0m\u001b[0;34m(\u001b[0m\u001b[0;34m'Event loop is running.'\u001b[0m\u001b[0;34m)\u001b[0m\u001b[0;34m\u001b[0m\u001b[0m\n\u001b[0m\u001b[1;32m    341\u001b[0m         \u001b[0mself\u001b[0m\u001b[0;34m.\u001b[0m\u001b[0m_set_coroutine_wrapper\u001b[0m\u001b[0;34m(\u001b[0m\u001b[0mself\u001b[0m\u001b[0;34m.\u001b[0m\u001b[0m_debug\u001b[0m\u001b[0;34m)\u001b[0m\u001b[0;34m\u001b[0m\u001b[0m\n\u001b[1;32m    342\u001b[0m         \u001b[0mself\u001b[0m\u001b[0;34m.\u001b[0m\u001b[0m_thread_id\u001b[0m \u001b[0;34m=\u001b[0m \u001b[0mthreading\u001b[0m\u001b[0;34m.\u001b[0m\u001b[0mget_ident\u001b[0m\u001b[0;34m(\u001b[0m\u001b[0;34m)\u001b[0m\u001b[0;34m\u001b[0m\u001b[0m\n",
      "\u001b[0;31mRuntimeError\u001b[0m: Event loop is running."
     ]
    },
    {
     "name": "stdout",
     "output_type": "stream",
     "text": [
      "new ccn connection\n",
      "Connection CNN closed\n"
     ]
    },
    {
     "name": "stderr",
     "output_type": "stream",
     "text": [
      "WARNING:tornado.access:404 GET /webcam (192.168.1.117) 2.52ms\n",
      "WARNING:tornado.access:404 GET /mlresults (192.168.1.117) 1.27ms\n"
     ]
    },
    {
     "name": "stdout",
     "output_type": "stream",
     "text": [
      "new ccn connection\n",
      "Connection CNN closed\n"
     ]
    },
    {
     "name": "stderr",
     "output_type": "stream",
     "text": [
      "WARNING:tornado.access:404 GET /webcam (192.168.1.117) 1.02ms\n",
      "WARNING:tornado.access:404 GET /mlresults (192.168.1.117) 1.11ms\n"
     ]
    },
    {
     "name": "stdout",
     "output_type": "stream",
     "text": [
      "new ccn connection\n"
     ]
    }
   ],
   "source": [
    "app = Application()\n",
    "ssl_ctx = ssl.create_default_context(ssl.Purpose.CLIENT_AUTH)\n",
    "ssl_ctx.load_cert_chain(webserver_files + \"ssl/domain.crt\",\n",
    "                       webserver_files + \"ssl/domain.key\")\n",
    "\n",
    "\n",
    "http_server = tornado.httpserver.HTTPServer(app, ssl_options=ssl_ctx)\n",
    "http_server.listen(port)\n",
    "tornado.ioloop.IOLoop.current().start()"
   ]
  },
  {
   "cell_type": "code",
   "execution_count": 5,
   "metadata": {},
   "outputs": [],
   "source": [
    "image_np = np.ones(shape=(5,5,3))"
   ]
  },
  {
   "cell_type": "code",
   "execution_count": 6,
   "metadata": {},
   "outputs": [
    {
     "data": {
      "text/plain": [
       "array([[0., 0., 0., ..., 0., 0., 0.],\n",
       "       [0., 0., 0., ..., 0., 0., 0.],\n",
       "       [0., 0., 0., ..., 0., 0., 0.],\n",
       "       ...,\n",
       "       [0., 0., 0., ..., 0., 0., 0.],\n",
       "       [0., 0., 0., ..., 0., 0., 0.],\n",
       "       [0., 0., 0., ..., 0., 0., 0.]])"
      ]
     },
     "execution_count": 6,
     "metadata": {},
     "output_type": "execute_result"
    }
   ],
   "source": []
  },
  {
   "cell_type": "code",
   "execution_count": 7,
   "metadata": {},
   "outputs": [
    {
     "data": {
      "text/plain": [
       "'data:image/png;base64,AQEBAQEBAQEBAQEBAQEBAQEBAQEBAQEBAQEBAQEBAQEBAQEBAQEBAQEBAQEBAQEBAQEBAQEBAQEBAQEBAQEBAQEBAQEBAQEBAQEB'"
      ]
     },
     "execution_count": 7,
     "metadata": {},
     "output_type": "execute_result"
    }
   ],
   "source": [
    "data"
   ]
  },
  {
   "cell_type": "code",
   "execution_count": 39,
   "metadata": {},
   "outputs": [
    {
     "data": {
      "text/plain": [
       "'/9j/4AAQSkZJRgABAQAAAQABAAD/2wBDAAgGBgcGBQgHBwcJCQgKDBQNDAsLDBkSEw8UHRofHh0aHBwgJC4nICIsIxwcKDcpLDAxNDQ0Hyc5PTgyPC4zNDL/2wBDAQkJCQwLDBgNDRgyIRwhMjIyMjIyMjIyMjIyMjIyMjIyMjIyMjIyMjIyMjIyMjIyMjIyMjIyMjIyMjIyMjIyMjL/wAARCAAFAAUDASIAAhEBAxEB/8QAHwAAAQUBAQEBAQEAAAAAAAAAAAECAwQFBgcICQoL/8QAtRAAAgEDAwIEAwUFBAQAAAF9AQIDAAQRBRIhMUEGE1FhByJxFDKBkaEII0KxwRVS0fAkM2JyggkKFhcYGRolJicoKSo0NTY3ODk6Q0RFRkdISUpTVFVWV1hZWmNkZWZnaGlqc3R1dnd4eXqDhIWGh4iJipKTlJWWl5iZmqKjpKWmp6ipqrKztLW2t7i5usLDxMXGx8jJytLT1NXW19jZ2uHi4+Tl5ufo6erx8vP09fb3+Pn6/8QAHwEAAwEBAQEBAQEBAQAAAAAAAAECAwQFBgcICQoL/8QAtREAAgECBAQDBAcFBAQAAQJ3AAECAxEEBSExBhJBUQdhcRMiMoEIFEKRobHBCSMzUvAVYnLRChYkNOEl8RcYGRomJygpKjU2Nzg5OkNERUZHSElKU1RVVldYWVpjZGVmZ2hpanN0dXZ3eHl6goOEhYaHiImKkpOUlZaXmJmaoqOkpaanqKmqsrO0tba3uLm6wsPExcbHyMnK0tPU1dbX2Nna4uPk5ebn6Onq8vP09fb3+Pn6/9oADAMBAAIRAxEAPwDwCiiigD//2Q=='"
      ]
     },
     "execution_count": 39,
     "metadata": {},
     "output_type": "execute_result"
    }
   ],
   "source": []
  },
  {
   "cell_type": "code",
   "execution_count": 38,
   "metadata": {},
   "outputs": [
    {
     "data": {
      "text/plain": [
       "'/9j/4AAQSkZJRgABAQAAAQABAAD/2wBDAAgGBgcGBQgHBwcJCQgKDBQNDAsLDBkSEw8UHRofHh0aHBwgJC4nICIsIxwcKDcpLDAxNDQ0Hyc5PTgyPC4zNDL/2wBDAQkJCQwLDBgNDRgyIRwhMjIyMjIyMjIyMjIyMjIyMjIyMjIyMjIyMjIyMjIyMjIyMjIyMjIyMjIyMjIyMjIyMjL/wAARCAAFAAUDASIAAhEBAxEB/8QAHwAAAQUBAQEBAQEAAAAAAAAAAAECAwQFBgcICQoL/8QAtRAAAgEDAwIEAwUFBAQAAAF9AQIDAAQRBRIhMUEGE1FhByJxFDKBkaEII0KxwRVS0fAkM2JyggkKFhcYGRolJicoKSo0NTY3ODk6Q0RFRkdISUpTVFVWV1hZWmNkZWZnaGlqc3R1dnd4eXqDhIWGh4iJipKTlJWWl5iZmqKjpKWmp6ipqrKztLW2t7i5usLDxMXGx8jJytLT1NXW19jZ2uHi4+Tl5ufo6erx8vP09fb3+Pn6/8QAHwEAAwEBAQEBAQEBAQAAAAAAAAECAwQFBgcICQoL/8QAtREAAgECBAQDBAcFBAQAAQJ3AAECAxEEBSExBhJBUQdhcRMiMoEIFEKRobHBCSMzUvAVYnLRChYkNOEl8RcYGRomJygpKjU2Nzg5OkNERUZHSElKU1RVVldYWVpjZGVmZ2hpanN0dXZ3eHl6goOEhYaHiImKkpOUlZaXmJmaoqOkpaanqKmqsrO0tba3uLm6wsPExcbHyMnK0tPU1dbX2Nna4uPk5ebn6Onq8vP09fb3+Pn6/9oADAMBAAIRAxEAPwDwCiiigD//2Q=='"
      ]
     },
     "execution_count": 38,
     "metadata": {},
     "output_type": "execute_result"
    }
   ],
   "source": [
    "data.decode('utf-8')"
   ]
  },
  {
   "cell_type": "code",
   "execution_count": 32,
   "metadata": {},
   "outputs": [],
   "source": []
  },
  {
   "cell_type": "code",
   "execution_count": 33,
   "metadata": {},
   "outputs": [],
   "source": []
  },
  {
   "cell_type": "code",
   "execution_count": 34,
   "metadata": {},
   "outputs": [
    {
     "data": {
      "text/plain": [
       "b'/9j/4AAQSkZJRgABAQAAAQABAAD/2wBDAAgGBgcGBQgHBwcJCQgKDBQNDAsLDBkSEw8UHRofHh0aHBwgJC4nICIsIxwcKDcpLDAxNDQ0Hyc5PTgyPC4zNDL/2wBDAQkJCQwLDBgNDRgyIRwhMjIyMjIyMjIyMjIyMjIyMjIyMjIyMjIyMjIyMjIyMjIyMjIyMjIyMjIyMjIyMjIyMjL/wAARCAAFAAUDASIAAhEBAxEB/8QAHwAAAQUBAQEBAQEAAAAAAAAAAAECAwQFBgcICQoL/8QAtRAAAgEDAwIEAwUFBAQAAAF9AQIDAAQRBRIhMUEGE1FhByJxFDKBkaEII0KxwRVS0fAkM2JyggkKFhcYGRolJicoKSo0NTY3ODk6Q0RFRkdISUpTVFVWV1hZWmNkZWZnaGlqc3R1dnd4eXqDhIWGh4iJipKTlJWWl5iZmqKjpKWmp6ipqrKztLW2t7i5usLDxMXGx8jJytLT1NXW19jZ2uHi4+Tl5ufo6erx8vP09fb3+Pn6/8QAHwEAAwEBAQEBAQEBAQAAAAAAAAECAwQFBgcICQoL/8QAtREAAgECBAQDBAcFBAQAAQJ3AAECAxEEBSExBhJBUQdhcRMiMoEIFEKRobHBCSMzUvAVYnLRChYkNOEl8RcYGRomJygpKjU2Nzg5OkNERUZHSElKU1RVVldYWVpjZGVmZ2hpanN0dXZ3eHl6goOEhYaHiImKkpOUlZaXmJmaoqOkpaanqKmqsrO0tba3uLm6wsPExcbHyMnK0tPU1dbX2Nna4uPk5ebn6Onq8vP09fb3+Pn6/9oADAMBAAIRAxEAPwDwCiiigD//2Q=='"
      ]
     },
     "execution_count": 34,
     "metadata": {},
     "output_type": "execute_result"
    }
   ],
   "source": [
    "data"
   ]
  },
  {
   "cell_type": "code",
   "execution_count": 7,
   "metadata": {},
   "outputs": [
    {
     "data": {
      "text/plain": [
       "(480, 640)"
      ]
     },
     "execution_count": 7,
     "metadata": {},
     "output_type": "execute_result"
    }
   ],
   "source": []
  },
  {
   "cell_type": "code",
   "execution_count": null,
   "metadata": {},
   "outputs": [],
   "source": []
  }
 ],
 "metadata": {
  "kernelspec": {
   "display_name": "Python 3",
   "language": "python",
   "name": "python3"
  },
  "language_info": {
   "codemirror_mode": {
    "name": "ipython",
    "version": 3
   },
   "file_extension": ".py",
   "mimetype": "text/x-python",
   "name": "python",
   "nbconvert_exporter": "python",
   "pygments_lexer": "ipython3",
   "version": "3.5.2"
  }
 },
 "nbformat": 4,
 "nbformat_minor": 2
}
