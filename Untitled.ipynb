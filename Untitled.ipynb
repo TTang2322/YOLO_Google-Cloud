{
 "cells": [
  {
   "cell_type": "code",
   "execution_count": 1,
   "metadata": {},
   "outputs": [],
   "source": [
    "import logging\n",
    "import tornado.escape\n",
    "import tornado.ioloop\n",
    "import tornado.options\n",
    "import tornado.web\n",
    "import tornado.websocket\n",
    "import os.path\n",
    "import uuid\n",
    "from PIL import Image\n",
    "import time\n",
    "\n",
    "#from io import StringIO\n",
    "from io import BytesIO\n",
    "import uuid\n",
    "import numpy\n",
    "import json\n",
    "from tornado.options import define, options\n",
    "import tornado.httpserver\n",
    "import sys\n",
    "import numpy as np\n",
    "import ssl\n",
    "from tornado.ioloop import PeriodicCallback\n",
    "\n",
    "port = 8888\n",
    "webserver_files = '/home/omar_abid4_gmail_com/cloud_ml_webrtc/webserver/'"
   ]
  },
  {
   "cell_type": "code",
   "execution_count": null,
   "metadata": {},
   "outputs": [],
   "source": [
    "class Application(tornado.web.Application):\n",
    "    def __init__(self):\n",
    "        handlers = [\n",
    "            (r\"/\", MainHandler),\n",
    "            (r\"/webcam\", WebcamHandler),\n",
    "            (r\"/mlresults\", MLResultHandler)\n",
    "            ]\n",
    "\n",
    "        settings = dict(\n",
    "            cookie_secret=\"asdsafl.rleknknfkjqweonrkbknoijsdfckjnk 234jn\",\n",
    "            template_path=os.path.join(os.path.dirname(webserver_files), \"templates\"),\n",
    "            static_path=os.path.join(os.path.dirname(webserver_files), \"static\"),\n",
    "            xsrf_cookies=False,\n",
    "            autoescape=None,\n",
    "            debug=True\n",
    "            )\n",
    "        tornado.web.Application.__init__(self, handlers, **settings)\n",
    "\n",
    "class MainHandler(tornado.web.RequestHandler):\n",
    "    def get(self):\n",
    "        self.render(\"facedetect.html\")\n",
    "\n",
    "\n",
    "class WebcamHandler(tornado.websocket.WebSocketHandler):\n",
    "    '''\n",
    "    When data is received, append it to our thread image queue.\n",
    "    '''\n",
    "    def open(self):\n",
    "        logging.info('new webcam connection')\n",
    "\n",
    "    def on_message(self, message):\n",
    "        image = Image.open(BytesIO(message))\n",
    "        cv_image = numpy.array(image)\n",
    "        thread_image.appendElement(cv_image)\n",
    "\n",
    "\n",
    "    def on_close(self):\n",
    "        logging.info('connection webcam closed')"
   ]
  }
 ],
 "metadata": {
  "kernelspec": {
   "display_name": "Python 3",
   "language": "python",
   "name": "python3"
  },
  "language_info": {
   "codemirror_mode": {
    "name": "ipython",
    "version": 3
   },
   "file_extension": ".py",
   "mimetype": "text/x-python",
   "name": "python",
   "nbconvert_exporter": "python",
   "pygments_lexer": "ipython3",
   "version": "3.5.3"
  }
 },
 "nbformat": 4,
 "nbformat_minor": 2
}
