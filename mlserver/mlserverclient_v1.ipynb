{
 "cells": [
  {
   "cell_type": "code",
   "execution_count": 1,
   "metadata": {},
   "outputs": [
    {
     "name": "stdout",
     "output_type": "stream",
     "text": [
      "Finished Loading Imports\n"
     ]
    }
   ],
   "source": [
    "# TO REMOVE\n",
    "import matplotlib.pyplot as plt\n",
    "%matplotlib inline\n",
    "\n",
    "\n",
    "import warnings\n",
    "warnings.filterwarnings('ignore')\n",
    "\n",
    "from PredictorDarknet import DarknetYOLO\n",
    "import time\n",
    "import cv2\n",
    "from PIL import Image\n",
    "\n",
    "from ZeroMQ import ZeroMQDataHandler\n",
    "from ZeroMQ import ZeroMQImageInput\n",
    "\n",
    "import zmq\n",
    "print(\"Finished Loading Imports\")"
   ]
  },
  {
   "cell_type": "code",
   "execution_count": 2,
   "metadata": {},
   "outputs": [],
   "source": [
    "context = zmq.Context()"
   ]
  },
  {
   "cell_type": "code",
   "execution_count": 3,
   "metadata": {},
   "outputs": [
    {
     "name": "stdout",
     "output_type": "stream",
     "text": [
      "Starting ZeroMQ Image Input Thread\n"
     ]
    }
   ],
   "source": [
    "thread_image = ZeroMQImageInput(context);\n",
    "thread_image.start()"
   ]
  },
  {
   "cell_type": "code",
   "execution_count": 4,
   "metadata": {},
   "outputs": [
    {
     "name": "stdout",
     "output_type": "stream",
     "text": [
      "Finished creating labelmap. Saved in /home/omar_abid4_gmail_com/nnModels/yolov3/coco/608//label_map.pbtxt\n",
      "Starting YOLO Predictor Thread\n"
     ]
    }
   ],
   "source": [
    "thread_yolo = DarknetYOLO(thread_image.image_data,\n",
    "                        YOLO_DIR=\"/home/omar_abid4_gmail_com/nnModels/yolov3/coco/608/\",\n",
    "                          score_thresh=0.5,\n",
    "                         fps = 0.08)\n",
    "thread_yolo.start()"
   ]
  },
  {
   "cell_type": "code",
   "execution_count": 5,
   "metadata": {},
   "outputs": [
    {
     "name": "stdout",
     "output_type": "stream",
     "text": [
      "Starting ZeroMQ DataHandler\n",
      "Error occured sending or receiving data on ML client. Expecting value: line 1 column 1 (char 0)\n",
      "Error occured sending or receiving data on ML client. Expecting value: line 1 column 1 (char 0)\n",
      "Error occured sending or receiving data on ML client. Expecting value: line 1 column 1 (char 0)\n",
      "Error occured sending or receiving data on ML client. Expecting value: line 1 column 1 (char 0)\n",
      "Error occured sending or receiving data on ML client. Expecting value: line 1 column 1 (char 0)\n",
      "Error occured sending or receiving data on ML client. Expecting value: line 1 column 1 (char 0)\n"
     ]
    }
   ],
   "source": [
    "thread_zeromqdatahandler = ZeroMQDataHandler(context,thread_yolo)\n",
    "thread_zeromqdatahandler.start()"
   ]
  },
  {
   "cell_type": "code",
   "execution_count": 6,
   "metadata": {},
   "outputs": [
    {
     "name": "stdout",
     "output_type": "stream",
     "text": [
      "Starting YOLO Predictor Thread\n"
     ]
    },
    {
     "name": "stderr",
     "output_type": "stream",
     "text": [
      "Exception in thread YOLO Predictor Thread:\n",
      "Traceback (most recent call last):\n",
      "  File \"/usr/lib/python3.5/threading.py\", line 914, in _bootstrap_inner\n",
      "    self.run()\n",
      "  File \"/home/omar_abid4_gmail_com/temp/cloud_ml_webrtc/mlserver/PredictorDarknet.py\", line 139, in run\n",
      "    self.predict(self.name)\n",
      "  File \"/home/omar_abid4_gmail_com/temp/cloud_ml_webrtc/mlserver/PredictorDarknet.py\", line 133, in predict\n",
      "    self.predict_once(image_np)\n",
      "  File \"/home/omar_abid4_gmail_com/temp/cloud_ml_webrtc/mlserver/PredictorDarknet.py\", line 116, in predict_once\n",
      "    index = self.getLabelIndex(class_)\n",
      "  File \"/home/omar_abid4_gmail_com/temp/cloud_ml_webrtc/mlserver/PredictorDarknet.py\", line 90, in getLabelIndex\n",
      "    label = [x[1] for x in self.REMAP_LABELS if x[0] == class_]\n",
      "AttributeError: 'DarknetYOLO' object has no attribute 'REMAP_LABELS'\n",
      "\n"
     ]
    }
   ],
   "source": []
  },
  {
   "cell_type": "code",
   "execution_count": null,
   "metadata": {},
   "outputs": [],
   "source": []
  },
  {
   "cell_type": "code",
   "execution_count": null,
   "metadata": {},
   "outputs": [],
   "source": []
  },
  {
   "cell_type": "code",
   "execution_count": null,
   "metadata": {},
   "outputs": [],
   "source": []
  },
  {
   "cell_type": "code",
   "execution_count": null,
   "metadata": {},
   "outputs": [],
   "source": []
  },
  {
   "cell_type": "code",
   "execution_count": null,
   "metadata": {},
   "outputs": [],
   "source": []
  },
  {
   "cell_type": "code",
   "execution_count": null,
   "metadata": {},
   "outputs": [],
   "source": []
  },
  {
   "cell_type": "code",
   "execution_count": null,
   "metadata": {},
   "outputs": [],
   "source": []
  },
  {
   "cell_type": "code",
   "execution_count": null,
   "metadata": {},
   "outputs": [],
   "source": []
  },
  {
   "cell_type": "code",
   "execution_count": null,
   "metadata": {},
   "outputs": [],
   "source": []
  },
  {
   "cell_type": "code",
   "execution_count": null,
   "metadata": {},
   "outputs": [],
   "source": []
  },
  {
   "cell_type": "code",
   "execution_count": null,
   "metadata": {},
   "outputs": [],
   "source": []
  }
 ],
 "metadata": {
  "kernelspec": {
   "display_name": "Python 3",
   "language": "python",
   "name": "python3"
  },
  "language_info": {
   "codemirror_mode": {
    "name": "ipython",
    "version": 3
   },
   "file_extension": ".py",
   "mimetype": "text/x-python",
   "name": "python",
   "nbconvert_exporter": "python",
   "pygments_lexer": "ipython3",
   "version": "3.5.3"
  }
 },
 "nbformat": 4,
 "nbformat_minor": 2
}
